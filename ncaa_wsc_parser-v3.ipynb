{
 "cells": [
  {
   "cell_type": "code",
   "execution_count": 3,
   "metadata": {
    "ExecuteTime": {
     "end_time": "2018-04-06T18:00:34.274435Z",
     "start_time": "2018-04-06T18:00:34.116811Z"
    }
   },
   "outputs": [],
   "source": [
    "# %load convert_wsc_data.py\n",
    "import collections\n",
    "import fnmatch\n",
    "import hashlib\n",
    "import json\n",
    "from os import walk, path\n",
    "\n",
    "from pandas import DataFrame, Series\n",
    "\n",
    "\n",
    "def recursively_find_all_files_in_a_dir_given_pattern(inDir, pattern):\n",
    "    #Get all the files in the appropriate directory having same suffix as 'pattern'\n",
    "    outfilenames = [] #Will store sensor file names\n",
    "    for root, dirnames, filenames in walk(inDir):\n",
    "        for filename in fnmatch.filter(filenames, pattern):\n",
    "            outfilenames.append(path.join(root, filename))\n",
    "    return(outfilenames)\n",
    "\n",
    "\n",
    "def digitize_ids(s):\n",
    "    return int(hashlib.sha1(s).hexdigest(), 16) % (10 ** 8)\n",
    "\n",
    "\n",
    "def flatten_new(d, parent_key='', sep='.'):\n",
    "    \"\"\"\n",
    "    This function flattens the JSON format string in variable d\n",
    "    :param d:\n",
    "    :param parent_key:\n",
    "    :param sep:\n",
    "    :return:\n",
    "    \"\"\"\n",
    "    items = []\n",
    "    if isinstance(d, collections.MutableMapping):\n",
    "        for k, v in d.items():\n",
    "            # print k\n",
    "            new_key = parent_key + sep + k if parent_key else k\n",
    "            if isinstance(v, collections.MutableMapping):\n",
    "                items.extend(flatten_new(v, new_key, sep=sep).items())\n",
    "            elif isinstance(v, list):\n",
    "                if v:\n",
    "                    items.extend(flatten_new(v, new_key, sep=sep).items())\n",
    "                else:\n",
    "                    continue\n",
    "            else:\n",
    "                items.append((new_key, v))\n",
    "    else:\n",
    "        if len(d) == 1:\n",
    "            new_key = parent_key\n",
    "            items.extend(flatten_new(d[0], new_key, sep=sep).items())\n",
    "        else:\n",
    "            j = 1\n",
    "            for myitem in d:\n",
    "                new_key = parent_key + sep + str(j)\n",
    "                items.extend(flatten_new(myitem, new_key, sep=sep).items())\n",
    "                j = j+1\n",
    "    return dict(items)\n",
    "\n",
    "\n",
    "def transform(file_name):\n",
    "    \"\"\"\n",
    "    Takes one json file, parses line by line and converts the json content into a pandas data frmae.\n",
    "    :param file_name: json file name\n",
    "    :return: pandas data frame\n",
    "    \"\"\"\n",
    "    with open(file_name) as json_file:\n",
    "        data = json.load(json_file)\n",
    "\n",
    "    rows = []\n",
    "    for line in data:\n",
    "        my_flattened_dict = flatten_new(line)\n",
    "        rows.append(Series(my_flattened_dict))\n",
    "\n",
    "    data_frame = DataFrame(rows)\n",
    "    return data_frame\n",
    "\n",
    "def transform_json_data(data):\n",
    "    rows = []\n",
    "    for line in data:\n",
    "        my_flattened_dict = flatten_new(line)\n",
    "        rows.append(Series(my_flattened_dict))\n",
    "\n",
    "    data_frame = DataFrame(rows)\n",
    "    return data_frame"
   ]
  },
  {
   "cell_type": "code",
   "execution_count": 158,
   "metadata": {
    "ExecuteTime": {
     "end_time": "2018-04-09T18:23:47.889534Z",
     "start_time": "2018-04-09T18:23:47.878592Z"
    }
   },
   "outputs": [],
   "source": [
    "import requests\n",
    "import traceback\n",
    "import pandas as pd\n",
    "import numpy as np\n",
    "import matplotlib.pyplot\n",
    "from sklearn.metrics import euclidean_distances\n",
    "from sklearn.preprocessing import LabelEncoder"
   ]
  },
  {
   "cell_type": "code",
   "execution_count": 5,
   "metadata": {
    "ExecuteTime": {
     "end_time": "2018-04-06T18:01:41.115910Z",
     "start_time": "2018-04-06T18:01:39.231454Z"
    }
   },
   "outputs": [
    {
     "name": "stdout",
     "output_type": "stream",
     "text": [
      "https://wscgateway.clipro.tv/api/videos?token=8yjodvide1ya81t\n"
     ]
    }
   ],
   "source": [
    "wsc_feed_url = 'https://wscgateway.clipro.tv/api/videos?token=8yjodvide1ya81t'\n",
    "print(wsc_feed_url)\n",
    "feed_response = requests.get(wsc_feed_url)"
   ]
  },
  {
   "cell_type": "code",
   "execution_count": 54,
   "metadata": {
    "ExecuteTime": {
     "end_time": "2018-04-06T23:07:14.703563Z",
     "start_time": "2018-04-06T23:07:14.313613Z"
    }
   },
   "outputs": [],
   "source": [
    "if feed_response.status_code == 200:\n",
    "    df = transform_json_data(feed_response.json())\n",
    "    #     wsc_data = parse_wsc_feed(feed_response)\n",
    "\n",
    "    #save_wsc_data(wsc_data)\n",
    "else:\n",
    "    print('WSC feed URL is not responding.')\n",
    "        "
   ]
  },
  {
   "cell_type": "code",
   "execution_count": 55,
   "metadata": {
    "ExecuteTime": {
     "end_time": "2018-04-06T23:07:16.656221Z",
     "start_time": "2018-04-06T23:07:16.652608Z"
    }
   },
   "outputs": [
    {
     "data": {
      "text/plain": [
       "(100, 994)"
      ]
     },
     "execution_count": 55,
     "metadata": {},
     "output_type": "execute_result"
    }
   ],
   "source": [
    "df.shape"
   ]
  },
  {
   "cell_type": "code",
   "execution_count": 56,
   "metadata": {
    "ExecuteTime": {
     "end_time": "2018-04-06T23:07:17.803353Z",
     "start_time": "2018-04-06T23:07:17.799248Z"
    }
   },
   "outputs": [
    {
     "data": {
      "text/plain": [
       "Index(['contentType', 'creationSettings.creationTimePeriod',\n",
       "       'creationSettings.ruleName', 'creationSettings.videoType',\n",
       "       'description', 'duration', 'events.1.actionType',\n",
       "       'events.1.eventClips.clipSccUrl', 'events.1.eventClips.clipSrtUrl',\n",
       "       'events.1.eventClips.clipThumbnailUrl',\n",
       "       ...\n",
       "       'resolution.height', 'resolution.width', 'title', 'videoSccUrl',\n",
       "       'videoSrtUrl', 'videoThumbnailUrl', 'videoUrl', 'videoUrls.bitRate',\n",
       "       'videoUrls.url', 'videoVttUrl'],\n",
       "      dtype='object', length=994)"
      ]
     },
     "execution_count": 56,
     "metadata": {},
     "output_type": "execute_result"
    }
   ],
   "source": [
    "df.columns"
   ]
  },
  {
   "cell_type": "code",
   "execution_count": 57,
   "metadata": {
    "ExecuteTime": {
     "end_time": "2018-04-06T23:07:19.994437Z",
     "start_time": "2018-04-06T23:07:19.966784Z"
    }
   },
   "outputs": [
    {
     "data": {
      "text/html": [
       "<div>\n",
       "<style scoped>\n",
       "    .dataframe tbody tr th:only-of-type {\n",
       "        vertical-align: middle;\n",
       "    }\n",
       "\n",
       "    .dataframe tbody tr th {\n",
       "        vertical-align: top;\n",
       "    }\n",
       "\n",
       "    .dataframe thead th {\n",
       "        text-align: right;\n",
       "    }\n",
       "</style>\n",
       "<table border=\"1\" class=\"dataframe\">\n",
       "  <thead>\n",
       "    <tr style=\"text-align: right;\">\n",
       "      <th></th>\n",
       "      <th>contentType</th>\n",
       "      <th>creationSettings.creationTimePeriod</th>\n",
       "      <th>creationSettings.ruleName</th>\n",
       "      <th>creationSettings.videoType</th>\n",
       "      <th>description</th>\n",
       "      <th>duration</th>\n",
       "      <th>events.1.actionType</th>\n",
       "      <th>events.1.eventClips.clipSccUrl</th>\n",
       "      <th>events.1.eventClips.clipSrtUrl</th>\n",
       "      <th>events.1.eventClips.clipThumbnailUrl</th>\n",
       "      <th>...</th>\n",
       "      <th>resolution.height</th>\n",
       "      <th>resolution.width</th>\n",
       "      <th>title</th>\n",
       "      <th>videoSccUrl</th>\n",
       "      <th>videoSrtUrl</th>\n",
       "      <th>videoThumbnailUrl</th>\n",
       "      <th>videoUrl</th>\n",
       "      <th>videoUrls.bitRate</th>\n",
       "      <th>videoUrls.url</th>\n",
       "      <th>videoVttUrl</th>\n",
       "    </tr>\n",
       "  </thead>\n",
       "  <tbody>\n",
       "    <tr>\n",
       "      <th>0</th>\n",
       "      <td>VIDEO</td>\n",
       "      <td>POST-GAME</td>\n",
       "      <td>Top Plays  of the Day</td>\n",
       "      <td>Top Plays</td>\n",
       "      <td>Top Plays of the Day, 04/02/2018</td>\n",
       "      <td>230564.0</td>\n",
       "      <td>2-pointer</td>\n",
       "      <td>http://wsczoominwestus.azureedge.net/videos/38...</td>\n",
       "      <td>http://wsczoominwestus.azureedge.net/videos/38...</td>\n",
       "      <td>http://wsczoominwestus.azureedge.net/thumbnail...</td>\n",
       "      <td>...</td>\n",
       "      <td>720</td>\n",
       "      <td>1280</td>\n",
       "      <td>Top Plays of the Day, 04/02/2018</td>\n",
       "      <td>http://wsczoominwestus.azureedge.net/publish/0...</td>\n",
       "      <td>http://wsczoominwestus.azureedge.net/publish/0...</td>\n",
       "      <td>http://wsczoominwestus.azureedge.net/publish/c...</td>\n",
       "      <td>http://wsczoominwestus.azureedge.net/publish/0...</td>\n",
       "      <td>6000</td>\n",
       "      <td>http://wsczoominwestus.azureedge.net/publish/0...</td>\n",
       "      <td>http://wsczoominwestus.azureedge.net/publish/0...</td>\n",
       "    </tr>\n",
       "    <tr>\n",
       "      <th>1</th>\n",
       "      <td>VIDEO</td>\n",
       "      <td>POST-GAME</td>\n",
       "      <td>Every Game - Game Highlights</td>\n",
       "      <td>Highlight</td>\n",
       "      <td>Watch the Game Highlights from Villanova Wildc...</td>\n",
       "      <td>114381.0</td>\n",
       "      <td>Block</td>\n",
       "      <td>http://wsczoominwestus.azureedge.net/videos/86...</td>\n",
       "      <td>http://wsczoominwestus.azureedge.net/videos/86...</td>\n",
       "      <td>http://wsczoominwestus.azureedge.net/thumbnail...</td>\n",
       "      <td>...</td>\n",
       "      <td>720</td>\n",
       "      <td>1280</td>\n",
       "      <td>Villanova Wildcats vs. Michigan Wolverines: Ga...</td>\n",
       "      <td>http://wsczoominwestus.azureedge.net/publish/a...</td>\n",
       "      <td>http://wsczoominwestus.azureedge.net/publish/a...</td>\n",
       "      <td>http://wsczoominwestus.azureedge.net/publish/8...</td>\n",
       "      <td>http://wsczoominwestus.azureedge.net/publish/a...</td>\n",
       "      <td>6000</td>\n",
       "      <td>http://wsczoominwestus.azureedge.net/publish/a...</td>\n",
       "      <td>http://wsczoominwestus.azureedge.net/publish/a...</td>\n",
       "    </tr>\n",
       "    <tr>\n",
       "      <th>2</th>\n",
       "      <td>VIDEO</td>\n",
       "      <td>POST-GAME</td>\n",
       "      <td>Top Plays  of the Day</td>\n",
       "      <td>Top Plays</td>\n",
       "      <td>Top Plays of the Day, 03/31/2018</td>\n",
       "      <td>234768.0</td>\n",
       "      <td>3-pointer</td>\n",
       "      <td>http://wsczoominwestus.azureedge.net/videos/F8...</td>\n",
       "      <td>http://wsczoominwestus.azureedge.net/videos/F8...</td>\n",
       "      <td>http://wsczoominwestus.azureedge.net/thumbnail...</td>\n",
       "      <td>...</td>\n",
       "      <td>720</td>\n",
       "      <td>1280</td>\n",
       "      <td>Top Plays of the Day, 03/31/2018</td>\n",
       "      <td>http://wsczoominwestus.azureedge.net/publish/c...</td>\n",
       "      <td>http://wsczoominwestus.azureedge.net/publish/c...</td>\n",
       "      <td>http://wsczoominwestus.azureedge.net/publish/e...</td>\n",
       "      <td>http://wsczoominwestus.azureedge.net/publish/c...</td>\n",
       "      <td>6000</td>\n",
       "      <td>http://wsczoominwestus.azureedge.net/publish/c...</td>\n",
       "      <td>http://wsczoominwestus.azureedge.net/publish/c...</td>\n",
       "    </tr>\n",
       "  </tbody>\n",
       "</table>\n",
       "<p>3 rows × 994 columns</p>\n",
       "</div>"
      ],
      "text/plain": [
       "  contentType creationSettings.creationTimePeriod  \\\n",
       "0       VIDEO                           POST-GAME   \n",
       "1       VIDEO                           POST-GAME   \n",
       "2       VIDEO                           POST-GAME   \n",
       "\n",
       "      creationSettings.ruleName creationSettings.videoType  \\\n",
       "0         Top Plays  of the Day                  Top Plays   \n",
       "1  Every Game - Game Highlights                  Highlight   \n",
       "2         Top Plays  of the Day                  Top Plays   \n",
       "\n",
       "                                         description  duration  \\\n",
       "0                   Top Plays of the Day, 04/02/2018  230564.0   \n",
       "1  Watch the Game Highlights from Villanova Wildc...  114381.0   \n",
       "2                   Top Plays of the Day, 03/31/2018  234768.0   \n",
       "\n",
       "  events.1.actionType                     events.1.eventClips.clipSccUrl  \\\n",
       "0           2-pointer  http://wsczoominwestus.azureedge.net/videos/38...   \n",
       "1               Block  http://wsczoominwestus.azureedge.net/videos/86...   \n",
       "2           3-pointer  http://wsczoominwestus.azureedge.net/videos/F8...   \n",
       "\n",
       "                      events.1.eventClips.clipSrtUrl  \\\n",
       "0  http://wsczoominwestus.azureedge.net/videos/38...   \n",
       "1  http://wsczoominwestus.azureedge.net/videos/86...   \n",
       "2  http://wsczoominwestus.azureedge.net/videos/F8...   \n",
       "\n",
       "                events.1.eventClips.clipThumbnailUrl  \\\n",
       "0  http://wsczoominwestus.azureedge.net/thumbnail...   \n",
       "1  http://wsczoominwestus.azureedge.net/thumbnail...   \n",
       "2  http://wsczoominwestus.azureedge.net/thumbnail...   \n",
       "\n",
       "                         ...                         resolution.height  \\\n",
       "0                        ...                                       720   \n",
       "1                        ...                                       720   \n",
       "2                        ...                                       720   \n",
       "\n",
       "  resolution.width                                              title  \\\n",
       "0             1280                   Top Plays of the Day, 04/02/2018   \n",
       "1             1280  Villanova Wildcats vs. Michigan Wolverines: Ga...   \n",
       "2             1280                   Top Plays of the Day, 03/31/2018   \n",
       "\n",
       "                                         videoSccUrl  \\\n",
       "0  http://wsczoominwestus.azureedge.net/publish/0...   \n",
       "1  http://wsczoominwestus.azureedge.net/publish/a...   \n",
       "2  http://wsczoominwestus.azureedge.net/publish/c...   \n",
       "\n",
       "                                         videoSrtUrl  \\\n",
       "0  http://wsczoominwestus.azureedge.net/publish/0...   \n",
       "1  http://wsczoominwestus.azureedge.net/publish/a...   \n",
       "2  http://wsczoominwestus.azureedge.net/publish/c...   \n",
       "\n",
       "                                   videoThumbnailUrl  \\\n",
       "0  http://wsczoominwestus.azureedge.net/publish/c...   \n",
       "1  http://wsczoominwestus.azureedge.net/publish/8...   \n",
       "2  http://wsczoominwestus.azureedge.net/publish/e...   \n",
       "\n",
       "                                            videoUrl videoUrls.bitRate  \\\n",
       "0  http://wsczoominwestus.azureedge.net/publish/0...              6000   \n",
       "1  http://wsczoominwestus.azureedge.net/publish/a...              6000   \n",
       "2  http://wsczoominwestus.azureedge.net/publish/c...              6000   \n",
       "\n",
       "                                       videoUrls.url  \\\n",
       "0  http://wsczoominwestus.azureedge.net/publish/0...   \n",
       "1  http://wsczoominwestus.azureedge.net/publish/a...   \n",
       "2  http://wsczoominwestus.azureedge.net/publish/c...   \n",
       "\n",
       "                                         videoVttUrl  \n",
       "0  http://wsczoominwestus.azureedge.net/publish/0...  \n",
       "1  http://wsczoominwestus.azureedge.net/publish/a...  \n",
       "2  http://wsczoominwestus.azureedge.net/publish/c...  \n",
       "\n",
       "[3 rows x 994 columns]"
      ]
     },
     "execution_count": 57,
     "metadata": {},
     "output_type": "execute_result"
    }
   ],
   "source": [
    "df.head(3)"
   ]
  },
  {
   "cell_type": "code",
   "execution_count": 251,
   "metadata": {
    "ExecuteTime": {
     "end_time": "2018-04-09T21:07:13.636134Z",
     "start_time": "2018-04-09T21:07:13.631213Z"
    }
   },
   "outputs": [],
   "source": [
    "game_df = df[df['creationSettings.ruleName']=='Every Game - Game Highlights']"
   ]
  },
  {
   "cell_type": "code",
   "execution_count": 285,
   "metadata": {
    "ExecuteTime": {
     "end_time": "2018-04-09T22:28:56.905179Z",
     "start_time": "2018-04-09T22:28:56.898639Z"
    },
    "scrolled": true
   },
   "outputs": [
    {
     "data": {
      "text/plain": [
       "1     FC065B5FA833D6FA3D7F21CE30BF2588C0026A12\n",
       "3     DA474AAF0158FEF9CCCA3D0156DCA438D6326C14\n",
       "4     3DC6B17A20AFF3A53B09F7BCE926BEB91781CD4E\n",
       "6     14C5688F162024F218502BF1789232AD6B033B16\n",
       "7     F8AC7E4C7CD347E221D2DD44D477C01987A83036\n",
       "9     F40D062EE2D0F4F7B0DBAD61539C5FD4BEA7A800\n",
       "10    FC7DFB12F36F17042EEB24CE55538AA84BC8D308\n",
       "12    1FE475A90CD0CF5383B1BED92B5D1BD47706A3E9\n",
       "13    B2A57E26D5196A9A0D86E9B4892240AA307D3B01\n",
       "14    32C9BA85CC0888076C4E79D818F23C6E8190D80F\n",
       "15    A2D946C327BFB2CD692F39F4E6825C85E6BD8A3C\n",
       "17    EBF4BC1FDDACA25BDE6DB5F46FA85A174BB3A236\n",
       "18    D2F2A893F33BB2AEE118A270D9883A91DBBD73D9\n",
       "19    EC5802CAFAFD5CE36C91B0E3DB8DA51175A991AC\n",
       "20    57C8780836CC6E90A26D7CC578DE2416C6B76A07\n",
       "22    E74AA2BD7020CC6BD130BDA0DDAFA4390D8053F6\n",
       "23    F0EB3ACB4EB2AE58CA7A7CED6696340CC1243725\n",
       "24    517A5F4436A5BE6304E3EB542B38A3D9026DD836\n",
       "25    2CB03D8893CE40E145A95DA450A39053B3A855A2\n",
       "26    E66704386D288A42C61FD91D601936DE46ED28BC\n",
       "27    1A25F2F1485B112744D89C86F3D9630DC83B68E8\n",
       "28    FD6EF23D34C31AEABF7B831158B35162CF2086F2\n",
       "29    E30D017B248540595D2BD8ADCDA0A432196FC157\n",
       "31    18BB3EA90ED5BC598E56F8E43E52561EDD05AB29\n",
       "32    6B87D64D44760B23470A2D8FA17C5A04138837A6\n",
       "33    9319E233E8B9A13CD320637E06EE6FB4B3BFD537\n",
       "34    FA96F9DA408DA136CAE934A180CF080D9E445C6E\n",
       "35    944C20AC5EF0C3F90304AB625A4AB0B4037B5F26\n",
       "36    CFC638E21D1139017A3812C7C2D55B8D81E1EE7E\n",
       "37    8184D7B09123931448CC51C9172FB2766C5E89E1\n",
       "                        ...                   \n",
       "60    F2FA909EFA4CB6ECB352E5B55A43F032AB3A4106\n",
       "61    6B2161DB93823F57997452A97DC992EEF74CA031\n",
       "62    B6230BF3C252956D0466FA495B977570251E4EB3\n",
       "63    B65924439DC66C532894FB666C6801120873C9B2\n",
       "64    5429FD54E975FAAE5D07A9383616B6E1499A07E2\n",
       "65    7C6BF08D2315B9813DD577A71B8549DF9C3B41AD\n",
       "66    4BC81F577F1E1DBB7E0A1B92F71D017CD5845E03\n",
       "67    083475CCAB685331CA8F543EEAB9D05696840202\n",
       "68    039FC600D5ADE1E2EA05C9124D383ECD70F16683\n",
       "69    6F43E3D9931F727A31A79DECC3F4D697BAAB89F0\n",
       "70    9B95B2DEE3F80EEBB31F7DA761C4DC7ABADD6EF1\n",
       "71    78D90EE11981F9E8E64AEB1A6616B965B3161EAE\n",
       "72    08F1B835495434B8634E03EF11B97AA6D91F8CF5\n",
       "74    87029B27BEF6C2771E05D6BC3524B5E9ED6917C2\n",
       "75    E833463BB05B120F90F156F3247BCD85B3BCC443\n",
       "77    37446A93AD5EE5B92960A81C19F93DA086523327\n",
       "78    7870DFEACC9F6257F62FCA5101A8F41F39F48C42\n",
       "80    F69E5A81699C6C1CE569DBBD2CCAFF05CF694E7B\n",
       "82    BED371A5F71E1F5716FC43ECFE29CBB90ADD4732\n",
       "83    D8A23C04E14828D6B6C749217DEC916F0CCE8954\n",
       "84    63022ED19B8BE914FC6987AE9D02AFE712A58CBC\n",
       "86    3E5E5FD7D37A6EB9D6492B87120D681C6E0BC735\n",
       "88    C69ECE4BF8A9348F57BCC2C214602E835C0132BC\n",
       "89    341518829F7AD7AF090893CC9B87A3802B676785\n",
       "90    3EE4DA031A6D83AE4A7D308ABB1986D50777E21F\n",
       "91    D11E17C0DAEE5A8C64AFE64EF07166C8CB805BD8\n",
       "93    D64AB02DC933EB78107DD5E5E51A960C54CE98A8\n",
       "95    20375BB1DFE2CB47B21AD754668B6B4CD0164A5E\n",
       "97    26E6C148953EC52F45C7A99F88E6E86621B21E90\n",
       "98    813FDC463E0E7678AFA25ADCD1163D56AED64AFF\n",
       "Name: id, Length: 80, dtype: object"
      ]
     },
     "execution_count": 285,
     "metadata": {},
     "output_type": "execute_result"
    }
   ],
   "source": [
    "game_df['id']"
   ]
  },
  {
   "cell_type": "code",
   "execution_count": 281,
   "metadata": {
    "ExecuteTime": {
     "end_time": "2018-04-09T22:27:22.996606Z",
     "start_time": "2018-04-09T22:27:22.991503Z"
    }
   },
   "outputs": [],
   "source": [
    "video_watched = df[df.id=='FC065B5FA833D6FA3D7F21CE30BF2588C0026A12']\n",
    "other_video = df[df.id=='FC065B5FA833D6FA3D7F21CE30BF2588C0026A12']"
   ]
  },
  {
   "cell_type": "code",
   "execution_count": 282,
   "metadata": {
    "ExecuteTime": {
     "end_time": "2018-04-09T22:27:25.137558Z",
     "start_time": "2018-04-09T22:27:24.043967Z"
    }
   },
   "outputs": [
    {
     "data": {
      "text/html": [
       "<div>\n",
       "<style scoped>\n",
       "    .dataframe tbody tr th:only-of-type {\n",
       "        vertical-align: middle;\n",
       "    }\n",
       "\n",
       "    .dataframe tbody tr th {\n",
       "        vertical-align: top;\n",
       "    }\n",
       "\n",
       "    .dataframe thead th {\n",
       "        text-align: right;\n",
       "    }\n",
       "</style>\n",
       "<table border=\"1\" class=\"dataframe\">\n",
       "  <thead>\n",
       "    <tr style=\"text-align: right;\">\n",
       "      <th></th>\n",
       "      <th>contentType</th>\n",
       "      <th>creationSettings.creationTimePeriod</th>\n",
       "      <th>creationSettings.ruleName</th>\n",
       "      <th>creationSettings.videoType</th>\n",
       "      <th>description</th>\n",
       "      <th>duration</th>\n",
       "      <th>events.1.actionType</th>\n",
       "      <th>events.1.eventClips.clipSccUrl</th>\n",
       "      <th>events.1.eventClips.clipSrtUrl</th>\n",
       "      <th>events.1.eventClips.clipThumbnailUrl</th>\n",
       "      <th>...</th>\n",
       "      <th>resolution.height</th>\n",
       "      <th>resolution.width</th>\n",
       "      <th>title</th>\n",
       "      <th>videoSccUrl</th>\n",
       "      <th>videoSrtUrl</th>\n",
       "      <th>videoThumbnailUrl</th>\n",
       "      <th>videoUrl</th>\n",
       "      <th>videoUrls.bitRate</th>\n",
       "      <th>videoUrls.url</th>\n",
       "      <th>videoVttUrl</th>\n",
       "    </tr>\n",
       "  </thead>\n",
       "  <tbody>\n",
       "    <tr>\n",
       "      <th>0</th>\n",
       "      <td>0</td>\n",
       "      <td>0</td>\n",
       "      <td>0</td>\n",
       "      <td>0</td>\n",
       "      <td>0</td>\n",
       "      <td>0</td>\n",
       "      <td>0</td>\n",
       "      <td>0</td>\n",
       "      <td>0</td>\n",
       "      <td>0</td>\n",
       "      <td>...</td>\n",
       "      <td>0</td>\n",
       "      <td>0</td>\n",
       "      <td>0</td>\n",
       "      <td>0</td>\n",
       "      <td>0</td>\n",
       "      <td>0</td>\n",
       "      <td>0</td>\n",
       "      <td>0</td>\n",
       "      <td>0</td>\n",
       "      <td>0</td>\n",
       "    </tr>\n",
       "    <tr>\n",
       "      <th>1</th>\n",
       "      <td>56</td>\n",
       "      <td>56</td>\n",
       "      <td>56</td>\n",
       "      <td>56</td>\n",
       "      <td>56</td>\n",
       "      <td>56</td>\n",
       "      <td>56</td>\n",
       "      <td>56</td>\n",
       "      <td>56</td>\n",
       "      <td>56</td>\n",
       "      <td>...</td>\n",
       "      <td>56</td>\n",
       "      <td>56</td>\n",
       "      <td>56</td>\n",
       "      <td>56</td>\n",
       "      <td>56</td>\n",
       "      <td>56</td>\n",
       "      <td>56</td>\n",
       "      <td>56</td>\n",
       "      <td>56</td>\n",
       "      <td>56</td>\n",
       "    </tr>\n",
       "  </tbody>\n",
       "</table>\n",
       "<p>2 rows × 994 columns</p>\n",
       "</div>"
      ],
      "text/plain": [
       "   contentType  creationSettings.creationTimePeriod  \\\n",
       "0            0                                    0   \n",
       "1           56                                   56   \n",
       "\n",
       "   creationSettings.ruleName  creationSettings.videoType  description  \\\n",
       "0                          0                           0            0   \n",
       "1                         56                          56           56   \n",
       "\n",
       "   duration  events.1.actionType  events.1.eventClips.clipSccUrl  \\\n",
       "0         0                    0                               0   \n",
       "1        56                   56                              56   \n",
       "\n",
       "   events.1.eventClips.clipSrtUrl  events.1.eventClips.clipThumbnailUrl  \\\n",
       "0                               0                                     0   \n",
       "1                              56                                    56   \n",
       "\n",
       "      ...       resolution.height  resolution.width  title  videoSccUrl  \\\n",
       "0     ...                       0                 0      0            0   \n",
       "1     ...                      56                56     56           56   \n",
       "\n",
       "   videoSrtUrl  videoThumbnailUrl  videoUrl  videoUrls.bitRate  videoUrls.url  \\\n",
       "0            0                  0         0                  0              0   \n",
       "1           56                 56        56                 56             56   \n",
       "\n",
       "   videoVttUrl  \n",
       "0            0  \n",
       "1           56  \n",
       "\n",
       "[2 rows x 994 columns]"
      ]
     },
     "execution_count": 282,
     "metadata": {},
     "output_type": "execute_result"
    }
   ],
   "source": [
    "filled_df = game_df.fillna('None')\n",
    "le = LabelEncoder()\n",
    "encoded_df = pd.DataFrame()\n",
    "# filled_df[filled_df['events.1.actionType'].str.contains('<')]\n",
    "for col in filled_df.columns:\n",
    "    series = filled_df[col].map({'<': 'lessThan'})\n",
    "    encoded_df[col] = le.fit_transform(series)\n",
    "\n",
    "encoded_df.head(2)"
   ]
  },
  {
   "cell_type": "code",
   "execution_count": 283,
   "metadata": {
    "ExecuteTime": {
     "end_time": "2018-04-09T22:27:28.949566Z",
     "start_time": "2018-04-09T22:27:28.937373Z"
    }
   },
   "outputs": [
    {
     "name": "stdout",
     "output_type": "stream",
     "text": [
      "77\n"
     ]
    },
    {
     "data": {
      "text/plain": [
       "array([[ 0.]])"
      ]
     },
     "execution_count": 283,
     "metadata": {},
     "output_type": "execute_result"
    }
   ],
   "source": [
    "id_encoder = le.fit(filled_df['id'])\n",
    "# video_watched_encoded = id_encoder.transform(video_watched)\n",
    "video_ids = id_encoder.transform(['FC065B5FA833D6FA3D7F21CE30BF2588C0026A12', 'FC065B5FA833D6FA3D7F21CE30BF2588C0026A12'])\n",
    "print(video_ids[0])\n",
    "video_watched = encoded_df[encoded_df['id']==video_ids[0]]\n",
    "other_video = encoded_df[encoded_df['id']==video_ids[1]]\n",
    "euclidean_distances(video_watched, other_video)"
   ]
  },
  {
   "cell_type": "code",
   "execution_count": 273,
   "metadata": {
    "ExecuteTime": {
     "end_time": "2018-04-09T22:23:42.797325Z",
     "start_time": "2018-04-09T22:23:42.791129Z"
    }
   },
   "outputs": [
    {
     "data": {
      "text/plain": [
       "7    F8AC7E4C7CD347E221D2DD44D477C01987A83036\n",
       "Name: id, dtype: object"
      ]
     },
     "execution_count": 273,
     "metadata": {},
     "output_type": "execute_result"
    }
   ],
   "source": [
    "# filled_df[filled_df['videoUrls.url']==\"http://wsczoominwestus.azureedge.net/publish/533aa7cd-8812-4100-8da4-3fc7ee9c70fd.mp4\"]['id']\n",
    "filled_df[filled_df['videoUrls.url']==\"http://wsczoominwestus.azureedge.net/publish/6fa5f750-868f-4d1a-9f42-b7f4dfb74d24.mp4\"]['id']"
   ]
  },
  {
   "cell_type": "code",
   "execution_count": 274,
   "metadata": {
    "ExecuteTime": {
     "end_time": "2018-04-09T22:23:45.670581Z",
     "start_time": "2018-04-09T22:23:45.659115Z"
    }
   },
   "outputs": [
    {
     "data": {
      "text/html": [
       "<div>\n",
       "<style scoped>\n",
       "    .dataframe tbody tr th:only-of-type {\n",
       "        vertical-align: middle;\n",
       "    }\n",
       "\n",
       "    .dataframe tbody tr th {\n",
       "        vertical-align: top;\n",
       "    }\n",
       "\n",
       "    .dataframe thead th {\n",
       "        text-align: right;\n",
       "    }\n",
       "</style>\n",
       "<table border=\"1\" class=\"dataframe\">\n",
       "  <thead>\n",
       "    <tr style=\"text-align: right;\">\n",
       "      <th></th>\n",
       "      <th>id</th>\n",
       "      <th>url</th>\n",
       "      <th>distance</th>\n",
       "    </tr>\n",
       "  </thead>\n",
       "  <tbody>\n",
       "    <tr>\n",
       "      <th>0</th>\n",
       "      <td>1</td>\n",
       "      <td>80</td>\n",
       "      <td>23</td>\n",
       "    </tr>\n",
       "  </tbody>\n",
       "</table>\n",
       "</div>"
      ],
      "text/plain": [
       "   id  url  distance\n",
       "0   1   80        23"
      ]
     },
     "execution_count": 274,
     "metadata": {},
     "output_type": "execute_result"
    }
   ],
   "source": [
    "frame1= pd.DataFrame()\n",
    "pd.DataFrame(np.array([(1, 80, 23)], dtype=[('id', np.int32),('url', np.int32),('distance', np.int32)]))"
   ]
  },
  {
   "cell_type": "code",
   "execution_count": 302,
   "metadata": {
    "ExecuteTime": {
     "end_time": "2018-04-09T22:45:29.146606Z",
     "start_time": "2018-04-09T22:45:28.943688Z"
    },
    "scrolled": false
   },
   "outputs": [
    {
     "name": "stdout",
     "output_type": "stream",
     "text": [
      "   video_id  url   distance\n",
      "0        19   19  31.527765\n",
      "0        21   21  31.527765\n",
      "0        22   22  63.055531\n",
      "0        18   18  63.055531\n",
      "0        23   23  94.583298\n",
      "Most relevant top five videos:\n",
      "http://wsczoominwestus.azureedge.net/publish/3d3b663f-8fe0-48e7-ae3d-6ca304c94aed.mp4\n",
      "http://wsczoominwestus.azureedge.net/publish/473f7e13-1655-40bf-a91f-351e622a27f3.mp4\n",
      "http://wsczoominwestus.azureedge.net/publish/4b6bd638-cfcd-4cb9-af00-5f30bf996346.mp4\n",
      "http://wsczoominwestus.azureedge.net/publish/3b5fb60b-ce0e-4c93-922a-946dbe2a4f7b.mp4\n",
      "http://wsczoominwestus.azureedge.net/publish/4c0e1d9a-67c6-4115-9566-b788a1fed918.mp4\n"
     ]
    }
   ],
   "source": [
    "# video_url = \"http://wsczoominwestus.azureedge.net/publish/d7d9c317-57e7-41e5-be06-0b1e90c887cd.mp4\" #Don't delete\n",
    "video_url = \"http://wsczoominwestus.azureedge.net/publish/1409d5b3-ed67-4085-b8d5-8d7538dbb67d.mp4\"\n",
    "video_id = filled_df[filled_df['videoUrls.url']==video_url]['id']\n",
    "id_encoder = le.fit(filled_df['id'])\n",
    "encoded_video_id = id_encoder.transform(video_id.tolist())\n",
    "video_watched = encoded_df[encoded_df['id']==encoded_video_id[0]]\n",
    "distances_df = pd.DataFrame()\n",
    "for row in encoded_df.iterrows():\n",
    "    if not row[1]['id'] == encoded_video_id[0]:        \n",
    "        other_video = encoded_df[encoded_df['id']==row[1]['id']]\n",
    "        distance = euclidean_distances(video_watched, other_video)\n",
    "        id1 = row[1]['id']\n",
    "        url1 = row[1]['videoUrls.url']            \n",
    "        array = np.array([(id1, url1, distance)], dtype=[('video_id', np.int32),('url', np.int32),('distance', np.float32)])\n",
    "        distances_df = distances_df.append(pd.DataFrame(array))\n",
    "distances_df.sort_values(by='distance', inplace=True)\n",
    "top = distances_df.head(5)\n",
    "print(top)\n",
    "url_encoder = le.fit(df['videoUrls.url'])\n",
    "print('Most relevant top five videos:')\n",
    "for row in top.iterrows():\n",
    "    url2 = distances_df[distances_df['video_id']==row[1]['url']]['url'].tolist()[0]\n",
    "    print(url_encoder.inverse_transform(url2))"
   ]
  },
  {
   "cell_type": "code",
   "execution_count": 268,
   "metadata": {
    "ExecuteTime": {
     "end_time": "2018-04-09T22:17:45.404694Z",
     "start_time": "2018-04-09T22:17:45.396300Z"
    }
   },
   "outputs": [
    {
     "name": "stdout",
     "output_type": "stream",
     "text": [
      "http://wsczoominwestus.azureedge.net/publish/0d5c09dc-de06-4f72-a1ed-1419e6720f08.mp4\n",
      "http://wsczoominwestus.azureedge.net/publish/16d07090-da26-4cfb-bd86-1f4f32afcb47.mp4\n"
     ]
    }
   ],
   "source": [
    "url_encoder = le.fit(df['videoUrls.url'])\n",
    "url2 = distances_df[distances_df['video_id']==19]['url'].tolist()[0]\n",
    "print(url_encoder.inverse_transform(url2))\n",
    "url3 = distances_df[distances_df['video_id']==8]['url'].tolist()[0]\n",
    "print(url_encoder.inverse_transform(url3))"
   ]
  },
  {
   "cell_type": "code",
   "execution_count": null,
   "metadata": {},
   "outputs": [],
   "source": []
  }
 ],
 "metadata": {
  "kernelspec": {
   "display_name": "Python 3",
   "language": "python",
   "name": "python3"
  },
  "language_info": {
   "codemirror_mode": {
    "name": "ipython",
    "version": 3
   },
   "file_extension": ".py",
   "mimetype": "text/x-python",
   "name": "python",
   "nbconvert_exporter": "python",
   "pygments_lexer": "ipython3",
   "version": "3.6.2"
  }
 },
 "nbformat": 4,
 "nbformat_minor": 2
}
